{
  "nbformat": 4,
  "nbformat_minor": 0,
  "metadata": {
    "colab": {
      "provenance": []
    },
    "kernelspec": {
      "name": "python3",
      "display_name": "Python 3"
    },
    "language_info": {
      "name": "python"
    }
  },
  "cells": [
    {
      "cell_type": "markdown",
      "source": [
        "# Read Directories"
      ],
      "metadata": {
        "id": "43trWpM28eN_"
      }
    },
    {
      "cell_type": "code",
      "execution_count": 391,
      "metadata": {
        "id": "-LiCEQLXy68V",
        "colab": {
          "base_uri": "https://localhost:8080/"
        },
        "outputId": "8582d684-f262-49ba-97a1-fd07da0c78fb"
      },
      "outputs": [
        {
          "output_type": "stream",
          "name": "stdout",
          "text": [
            "sample_data/UNSW_NB15_testing-set.csv\n",
            "sample_data/UNSW_NB15_training-set.csv\n"
          ]
        }
      ],
      "source": [
        "import os\n",
        "for dirname, _, filenames in os.walk('sample_data'):\n",
        "    for filename in filenames:\n",
        "        print(os.path.join(dirname, filename))"
      ]
    },
    {
      "cell_type": "markdown",
      "source": [
        "# 1. Import Liberaries"
      ],
      "metadata": {
        "id": "CKsCXapR8cXg"
      }
    },
    {
      "cell_type": "code",
      "source": [
        "import matplotlib.pyplot as plt\n",
        "import seaborn as sns\n",
        "from sklearn.linear_model import SGDClassifier,RidgeClassifier\n",
        "from sklearn.metrics import (precision_score, recall_score,f1_score)\n",
        "from sklearn.metrics import average_precision_score"
      ],
      "metadata": {
        "id": "HdKdHih4-WpA"
      },
      "execution_count": 392,
      "outputs": []
    },
    {
      "cell_type": "code",
      "source": [
        "######## Base\n",
        "import numpy as np # linear algebra\n",
        "import pandas as pd # data processing, CSV file I/O (e.g. pd.read_csv)\n",
        "\n",
        "pd.set_option('display.max_columns', None)\n",
        "\n",
        "######### Warning ##############\n",
        "import warnings\n",
        "warnings.filterwarnings(\"ignore\")\n",
        "warnings.simplefilter(action='ignore', category=FutureWarning)\n",
        "########## Sklearn #############\n",
        "# Pre-processing\n",
        "from sklearn.preprocessing import LabelEncoder, StandardScaler, MinMaxScaler\n",
        "from sklearn.model_selection import train_test_split\n",
        "# Metrics\n",
        "from sklearn.metrics import confusion_matrix, accuracy_score, classification_report\n",
        "from sklearn.metrics import roc_auc_score, roc_curve\n"
      ],
      "metadata": {
        "id": "p1wchznB-oWc"
      },
      "execution_count": 393,
      "outputs": []
    },
    {
      "cell_type": "markdown",
      "source": [
        "# 2. Loading Data"
      ],
      "metadata": {
        "id": "R2QeVPmC_EIB"
      }
    },
    {
      "cell_type": "code",
      "source": [
        "train=pd.read_csv('sample_data/UNSW_NB15_training-set.csv')\n",
        "test=pd.read_csv('sample_data/UNSW_NB15_testing-set.csv')\n"
      ],
      "metadata": {
        "id": "EkBJOhac_PZv"
      },
      "execution_count": 394,
      "outputs": []
    },
    {
      "cell_type": "markdown",
      "source": [],
      "metadata": {
        "id": "qxU2T_RxAEw9"
      }
    },
    {
      "cell_type": "markdown",
      "source": [
        "# 3. Data Visualization"
      ],
      "metadata": {
        "id": "1XIcvuBdAG_M"
      }
    },
    {
      "cell_type": "code",
      "source": [
        "# Print the number of train / test samples\n",
        "print(f\"Train data length: {len(train)}\")\n",
        "print(f\"Test data length: {len(test)}\")\n",
        "\n",
        "# Visualise the distribution of attacks and normal traffic\n",
        "\n",
        "f, axes = plt.subplots(2, 2, figsize=(12, 10))\n",
        "\n",
        "# Create the plots\n",
        "sns.countplot(x=\"label\", data=train, ax=axes[0,0])\n",
        "sns.countplot(x=\"label\", data=test, ax=axes[0,1])\n",
        "sns.countplot(x=\"attack_cat\", data=train, ax=axes[1,0], order = train['attack_cat'].value_counts().index)\n",
        "sns.countplot(x=\"attack_cat\", data=test, ax=axes[1,1], order = test['attack_cat'].value_counts().index)\n",
        "# Set the plot titles\n",
        "axes[0,0].set_title(\"Training data distribution\")\n",
        "axes[1,0].set_title(\"Training data distribution\")\n",
        "axes[0,1].set_title(\"Testing data distribution\")\n",
        "axes[1,1].set_title(\"Testing data distribution\")\n",
        "\n",
        "# Rotate xticks for readability\n",
        "axes[1,0].tick_params('x', labelrotation=45)\n",
        "axes[1,1].tick_params('x', labelrotation=45)\n",
        "\n",
        "# Change the xtick labels for attack / normal\n",
        "axes[0,0].set_xticklabels([\"Normal\", \"Attack\"])\n",
        "axes[0,1].set_xticklabels([\"Normal\", \"Attack\"])\n",
        "# Remove xlabels\n",
        "axes[0,0].set_xlabel(\"\")\n",
        "axes[0,1].set_xlabel(\"\")\n",
        "axes[1,0].set_xlabel(\"\")\n",
        "axes[1,1].set_xlabel(\"\")\n",
        "\n",
        "# Add some space between the plots for y labels\n",
        "plt.subplots_adjust(wspace=0.25)"
      ],
      "metadata": {
        "colab": {
          "base_uri": "https://localhost:8080/",
          "height": 691
        },
        "id": "c3RX87Q1ANPq",
        "outputId": "a7a5aea0-b4a3-4b92-eb6b-3e820302eb11"
      },
      "execution_count": 395,
      "outputs": [
        {
          "output_type": "stream",
          "name": "stdout",
          "text": [
            "Train data length: 82332\n",
            "Test data length: 175341\n"
          ]
        },
        {
          "output_type": "display_data",
          "data": {
            "text/plain": [
              "<Figure size 864x720 with 4 Axes>"
            ],
            "image/png": "[encoded data removed]"
          },
          "metadata": {
            "needs_background": "light"
          }
        }
      ]
    },
    {
      "cell_type": "markdown",
      "source": [
        "# 4. Dataset Observation"
      ],
      "metadata": {
        "id": "YL4FK9MzAqIk"
      }
    },
    {
      "cell_type": "code",
      "source": [
        "train.head()\n",
        "#display the first  5 rows if we want to display n rows we insert n in head"
      ],
      "metadata": {
        "colab": {
          "base_uri": "https://localhost:8080/",
          "height": 270
        },
        "id": "LkhovTXxAvby",
        "outputId": "962d71d8-2258-4500-b76a-07996f300647"
      },
      "execution_count": 396,
      "outputs": [
        {
          "output_type": "execute_result",
          "data": {
            "text/plain": [
              "   id       dur proto service state  spkts  dpkts  sbytes  dbytes  \\\n",
              "0   1  0.000011   udp       -   INT      2      0     496       0   \n",
              "1   2  0.000008   udp       -   INT      2      0    1762       0   \n",
              "2   3  0.000005   udp       -   INT      2      0    1068       0   \n",
              "3   4  0.000006   udp       -   INT      2      0     900       0   \n",
              "4   5  0.000010   udp       -   INT      2      0    2126       0   \n",
              "\n",
              "          rate  sttl  dttl        sload  dload  sloss  dloss  sinpkt  dinpkt  \\\n",
              "0   90909.0902   254     0  180363632.0    0.0      0      0   0.011     0.0   \n",
              "1  125000.0003   254     0  881000000.0    0.0      0      0   0.008     0.0   \n",
              "2  200000.0051   254     0  854400000.0    0.0      0      0   0.005     0.0   \n",
              "3  166666.6608   254     0  600000000.0    0.0      0      0   0.006     0.0   \n",
              "4  100000.0025   254     0  850400000.0    0.0      0      0   0.010     0.0   \n",
              "\n",
              "   sjit  djit  swin  stcpb  dtcpb  dwin  tcprtt  synack  ackdat  smean  dmean  \\\n",
              "0   0.0   0.0     0      0      0     0     0.0     0.0     0.0    248      0   \n",
              "1   0.0   0.0     0      0      0     0     0.0     0.0     0.0    881      0   \n",
              "2   0.0   0.0     0      0      0     0     0.0     0.0     0.0    534      0   \n",
              "3   0.0   0.0     0      0      0     0     0.0     0.0     0.0    450      0   \n",
              "4   0.0   0.0     0      0      0     0     0.0     0.0     0.0   1063      0   \n",
              "\n",
              "   trans_depth  response_body_len  ct_srv_src  ct_state_ttl  ct_dst_ltm  \\\n",
              "0            0                  0           2             2           1   \n",
              "1            0                  0           2             2           1   \n",
              "2            0                  0           3             2           1   \n",
              "3            0                  0           3             2           2   \n",
              "4            0                  0           3             2           2   \n",
              "\n",
              "   ct_src_dport_ltm  ct_dst_sport_ltm  ct_dst_src_ltm  is_ftp_login  \\\n",
              "0                 1                 1               2             0   \n",
              "1                 1                 1               2             0   \n",
              "2                 1                 1               3             0   \n",
              "3                 2                 1               3             0   \n",
              "4                 2                 1               3             0   \n",
              "\n",
              "   ct_ftp_cmd  ct_flw_http_mthd  ct_src_ltm  ct_srv_dst  is_sm_ips_ports  \\\n",
              "0           0                 0           1           2                0   \n",
              "1           0                 0           1           2                0   \n",
              "2           0                 0           1           3                0   \n",
              "3           0                 0           2           3                0   \n",
              "4           0                 0           2           3                0   \n",
              "\n",
              "  attack_cat  label  \n",
              "0     Normal      0  \n",
              "1     Normal      0  \n",
              "2     Normal      0  \n",
              "3     Normal      0  \n",
              "4     Normal      0  "
            ],
            "text/html": [
              "\n",
              "  <div id=\"df-898c23ac-6eaa-4201-a887-8cb10093b5cf\">\n",
              "    <div class=\"colab-df-container\">\n",
              "      <div>\n",
              "<style scoped>\n",
              "    .dataframe tbody tr th:only-of-type {\n",
              "        vertical-align: middle;\n",
              "    }\n",
              "\n",
              "    .dataframe tbody tr th {\n",
              "        vertical-align: top;\n",
              "    }\n",
              "\n",
              "    .dataframe thead th {\n",
              "        text-align: right;\n",
              "    }\n",
              "</style>\n",
              "<table border=\"1\" class=\"dataframe\">\n",
              "  <thead>\n",
              "    <tr style=\"text-align: right;\">\n",
              "      <th></th>\n",
              "      <th>id</th>\n",
              "      <th>dur</th>\n",
              "      <th>proto</th>\n",
              "      <th>service</th>\n",
              "      <th>state</th>\n",
              "      <th>spkts</th>\n",
              "      <th>dpkts</th>\n",
              "      <th>sbytes</th>\n",
              "      <th>dbytes</th>\n",
              "      <th>rate</th>\n",
              "      <th>sttl</th>\n",
              "      <th>dttl</th>\n",
              "      <th>sload</th>\n",
              "      <th>dload</th>\n",
              "      <th>sloss</th>\n",
              "      <th>dloss</th>\n",
              "      <th>sinpkt</th>\n",
              "      <th>dinpkt</th>\n",
              "      <th>sjit</th>\n",
              "      <th>djit</th>\n",
              "      <th>swin</th>\n",
              "      <th>stcpb</th>\n",
              "      <th>dtcpb</th>\n",
              "      <th>dwin</th>\n",
              "      <th>tcprtt</th>\n",
              "      <th>synack</th>\n",
              "      <th>ackdat</th>\n",
              "      <th>smean</th>\n",
              "      <th>dmean</th>\n",
              "      <th>trans_depth</th>\n",
              "      <th>response_body_len</th>\n",
              "      <th>ct_srv_src</th>\n",
              "      <th>ct_state_ttl</th>\n",
              "      <th>ct_dst_ltm</th>\n",
              "      <th>ct_src_dport_ltm</th>\n",
              "      <th>ct_dst_sport_ltm</th>\n",
              "      <th>ct_dst_src_ltm</th>\n",
              "      <th>is_ftp_login</th>\n",
              "      <th>ct_ftp_cmd</th>\n",
              "      <th>ct_flw_http_mthd</th>\n",
              "      <th>ct_src_ltm</th>\n",
              "      <th>ct_srv_dst</th>\n",
              "      <th>is_sm_ips_ports</th>\n",
              "      <th>attack_cat</th>\n",
              "      <th>label</th>\n",
              "    </tr>\n",
              "  </thead>\n",
              "  <tbody>\n",
              "    <tr>\n",
              "      <th>0</th>\n",
              "      <td>1</td>\n",
              "      <td>0.000011</td>\n",
              "      <td>udp</td>\n",
              "      <td>-</td>\n",
              "      <td>INT</td>\n",
              "      <td>2</td>\n",
              "      <td>0</td>\n",
              "      <td>496</td>\n",
              "      <td>0</td>\n",
              "      <td>90909.0902</td>\n",
              "      <td>254</td>\n",
              "      <td>0</td>\n",
              "      <td>180363632.0</td>\n",
              "      <td>0.0</td>\n",
              "      <td>0</td>\n",
              "      <td>0</td>\n",
              "      <td>0.011</td>\n",
              "      <td>0.0</td>\n",
              "      <td>0.0</td>\n",
              "      <td>0.0</td>\n",
              "      <td>0</td>\n",
              "      <td>0</td>\n",
              "      <td>0</td>\n",
              "      <td>0</td>\n",
              "      <td>0.0</td>\n",
              "      <td>0.0</td>\n",
              "      <td>0.0</td>\n",
              "      <td>248</td>\n",
              "      <td>0</td>\n",
              "      <td>0</td>\n",
              "      <td>0</td>\n",
              "      <td>2</td>\n",
              "      <td>2</td>\n",
              "      <td>1</td>\n",
              "      <td>1</td>\n",
              "      <td>1</td>\n",
              "      <td>2</td>\n",
              "      <td>0</td>\n",
              "      <td>0</td>\n",
              "      <td>0</td>\n",
              "      <td>1</td>\n",
              "      <td>2</td>\n",
              "      <td>0</td>\n",
              "      <td>Normal</td>\n",
              "      <td>0</td>\n",
              "    </tr>\n",
              "    <tr>\n",
              "      <th>1</th>\n",
              "      <td>2</td>\n",
              "      <td>0.000008</td>\n",
              "      <td>udp</td>\n",
              "      <td>-</td>\n",
              "      <td>INT</td>\n",
              "      <td>2</td>\n",
              "      <td>0</td>\n",
              "      <td>1762</td>\n",
              "      <td>0</td>\n",
              "      <td>125000.0003</td>\n",
              "      <td>254</td>\n",
              "      <td>0</td>\n",
              "      <td>881000000.0</td>\n",
              "      <td>0.0</td>\n",
              "      <td>0</td>\n",
              "      <td>0</td>\n",
              "      <td>0.008</td>\n",
              "      <td>0.0</td>\n",
              "      <td>0.0</td>\n",
              "      <td>0.0</td>\n",
              "      <td>0</td>\n",
              "      <td>0</td>\n",
              "      <td>0</td>\n",
              "      <td>0</td>\n",
              "      <td>0.0</td>\n",
              "      <td>0.0</td>\n",
              "      <td>0.0</td>\n",
              "      <td>881</td>\n",
              "      <td>0</td>\n",
              "      <td>0</td>\n",
              "      <td>0</td>\n",
              "      <td>2</td>\n",
              "      <td>2</td>\n",
              "      <td>1</td>\n",
              "      <td>1</td>\n",
              "      <td>1</td>\n",
              "      <td>2</td>\n",
              "      <td>0</td>\n",
              "      <td>0</td>\n",
              "      <td>0</td>\n",
              "      <td>1</td>\n",
              "      <td>2</td>\n",
              "      <td>0</td>\n",
              "      <td>Normal</td>\n",
              "      <td>0</td>\n",
              "    </tr>\n",
              "    <tr>\n",
              "      <th>2</th>\n",
              "      <td>3</td>\n",
              "      <td>0.000005</td>\n",
              "      <td>udp</td>\n",
              "      <td>-</td>\n",
              "      <td>INT</td>\n",
              "      <td>2</td>\n",
              "      <td>0</td>\n",
              "      <td>1068</td>\n",
              "      <td>0</td>\n",
              "      <td>200000.0051</td>\n",
              "      <td>254</td>\n",
              "      <td>0</td>\n",
              "      <td>854400000.0</td>\n",
              "      <td>0.0</td>\n",
              "      <td>0</td>\n",
              "      <td>0</td>\n",
              "      <td>0.005</td>\n",
              "      <td>0.0</td>\n",
              "      <td>0.0</td>\n",
              "      <td>0.0</td>\n",
              "      <td>0</td>\n",
              "      <td>0</td>\n",
              "      <td>0</td>\n",
              "      <td>0</td>\n",
              "      <td>0.0</td>\n",
              "      <td>0.0</td>\n",
              "      <td>0.0</td>\n",
              "      <td>534</td>\n",
              "      <td>0</td>\n",
              "      <td>0</td>\n",
              "      <td>0</td>\n",
              "      <td>3</td>\n",
              "      <td>2</td>\n",
              "      <td>1</td>\n",
              "      <td>1</td>\n",
              "      <td>1</td>\n",
              "      <td>3</td>\n",
              "      <td>0</td>\n",
              "      <td>0</td>\n",
              "      <td>0</td>\n",
              "      <td>1</td>\n",
              "      <td>3</td>\n",
              "      <td>0</td>\n",
              "      <td>Normal</td>\n",
              "      <td>0</td>\n",
              "    </tr>\n",
              "    <tr>\n",
              "      <th>3</th>\n",
              "      <td>4</td>\n",
              "      <td>0.000006</td>\n",
              "      <td>udp</td>\n",
              "      <td>-</td>\n",
              "      <td>INT</td>\n",
              "      <td>2</td>\n",
              "      <td>0</td>\n",
              "      <td>900</td>\n",
              "      <td>0</td>\n",
              "      <td>166666.6608</td>\n",
              "      <td>254</td>\n",
              "      <td>0</td>\n",
              "      <td>600000000.0</td>\n",
              "      <td>0.0</td>\n",
              "      <td>0</td>\n",
              "      <td>0</td>\n",
              "      <td>0.006</td>\n",
              "      <td>0.0</td>\n",
              "      <td>0.0</td>\n",
              "      <td>0.0</td>\n",
              "      <td>0</td>\n",
              "      <td>0</td>\n",
              "      <td>0</td>\n",
              "      <td>0</td>\n",
              "      <td>0.0</td>\n",
              "      <td>0.0</td>\n",
              "      <td>0.0</td>\n",
              "      <td>450</td>\n",
              "      <td>0</td>\n",
              "      <td>0</td>\n",
              "      <td>0</td>\n",
              "      <td>3</td>\n",
              "      <td>2</td>\n",
              "      <td>2</td>\n",
              "      <td>2</td>\n",
              "      <td>1</td>\n",
              "      <td>3</td>\n",
              "      <td>0</td>\n",
              "      <td>0</td>\n",
              "      <td>0</td>\n",
              "      <td>2</td>\n",
              "      <td>3</td>\n",
              "      <td>0</td>\n",
              "      <td>Normal</td>\n",
              "      <td>0</td>\n",
              "    </tr>\n",
              "    <tr>\n",
              "      <th>4</th>\n",
              "      <td>5</td>\n",
              "      <td>0.000010</td>\n",
              "      <td>udp</td>\n",
              "      <td>-</td>\n",
              "      <td>INT</td>\n",
              "      <td>2</td>\n",
              "      <td>0</td>\n",
              "      <td>2126</td>\n",
              "      <td>0</td>\n",
              "      <td>100000.0025</td>\n",
              "      <td>254</td>\n",
              "      <td>0</td>\n",
              "      <td>850400000.0</td>\n",
              "      <td>0.0</td>\n",
              "      <td>0</td>\n",
              "      <td>0</td>\n",
              "      <td>0.010</td>\n",
              "      <td>0.0</td>\n",
              "      <td>0.0</td>\n",
              "      <td>0.0</td>\n",
              "      <td>0</td>\n",
              "      <td>0</td>\n",
              "      <td>0</td>\n",
              "      <td>0</td>\n",
              "      <td>0.0</td>\n",
              "      <td>0.0</td>\n",
              "      <td>0.0</td>\n",
              "      <td>1063</td>\n",
              "      <td>0</td>\n",
              "      <td>0</td>\n",
              "      <td>0</td>\n",
              "      <td>3</td>\n",
              "      <td>2</td>\n",
              "      <td>2</td>\n",
              "      <td>2</td>\n",
              "      <td>1</td>\n",
              "      <td>3</td>\n",
              "      <td>0</td>\n",
              "      <td>0</td>\n",
              "      <td>0</td>\n",
              "      <td>2</td>\n",
              "      <td>3</td>\n",
              "      <td>0</td>\n",
              "      <td>Normal</td>\n",
              "      <td>0</td>\n",
              "    </tr>\n",
              "  </tbody>\n",
              "</table>\n",
              "</div>\n",
              "      <button class=\"colab-df-convert\" onclick=\"convertToInteractive('df-898c23ac-6eaa-4201-a887-8cb10093b5cf')\"\n",
              "              title=\"Convert this dataframe to an interactive table.\"\n",
              "              style=\"display:none;\">\n",
              "        \n",
              "  <svg xmlns=\"http://www.w3.org/2000/svg\" height=\"24px\"viewBox=\"0 0 24 24\"\n",
              "       width=\"24px\">\n",
              "    <path d=\"M0 0h24v24H0V0z\" fill=\"none\"/>\n",
              "    <path d=\"M18.56 5.44l.94 2.06.94-2.06 2.06-.94-2.06-.94-.94-2.06-.94 2.06-2.06.94zm-11 1L8.5 8.5l.94-2.06 2.06-.94-2.06-.94L8.5 2.5l-.94 2.06-2.06.94zm10 10l.94 2.06.94-2.06 2.06-.94-2.06-.94-.94-2.06-.94 2.06-2.06.94z\"/><path d=\"M17.41 7.96l-1.37-1.37c-.4-.4-.92-.59-1.43-.59-.52 0-1.04.2-1.43.59L10.3 9.45l-7.72 7.72c-.78.78-.78 2.05 0 2.83L4 21.41c.39.39.9.59 1.41.59.51 0 1.02-.2 1.41-.59l7.78-7.78 2.81-2.81c.8-.78.8-2.07 0-2.86zM5.41 20L4 18.59l7.72-7.72 1.47 1.35L5.41 20z\"/>\n",
              "  </svg>\n",
              "      </button>\n",
              "      \n",
              "  <style>\n",
              "    .colab-df-container {\n",
              "      display:flex;\n",
              "      flex-wrap:wrap;\n",
              "      gap: 12px;\n",
              "    }\n",
              "\n",
              "    .colab-df-convert {\n",
              "      background-color: #E8F0FE;\n",
              "      border: none;\n",
              "      border-radius: 50%;\n",
              "      cursor: pointer;\n",
              "      display: none;\n",
              "      fill: #1967D2;\n",
              "      height: 32px;\n",
              "      padding: 0 0 0 0;\n",
              "      width: 32px;\n",
              "    }\n",
              "\n",
              "    .colab-df-convert:hover {\n",
              "      background-color: #E2EBFA;\n",
              "      box-shadow: 0px 1px 2px rgba(60, 64, 67, 0.3), 0px 1px 3px 1px rgba(60, 64, 67, 0.15);\n",
              "      fill: #174EA6;\n",
              "    }\n",
              "\n",
              "    [theme=dark] .colab-df-convert {\n",
              "      background-color: #3B4455;\n",
              "      fill: #D2E3FC;\n",
              "    }\n",
              "\n",
              "    [theme=dark] .colab-df-convert:hover {\n",
              "      background-color: #434B5C;\n",
              "      box-shadow: 0px 1px 3px 1px rgba(0, 0, 0, 0.15);\n",
              "      filter: drop-shadow(0px 1px 2px rgba(0, 0, 0, 0.3));\n",
              "      fill: #FFFFFF;\n",
              "    }\n",
              "  </style>\n",
              "\n",
              "      <script>\n",
              "        const buttonEl =\n",
              "          document.querySelector('#df-898c23ac-6eaa-4201-a887-8cb10093b5cf button.colab-df-convert');\n",
              "        buttonEl.style.display =\n",
              "          google.colab.kernel.accessAllowed ? 'block' : 'none';\n",
              "\n",
              "        async function convertToInteractive(key) {\n",
              "          const element = document.querySelector('#df-898c23ac-6eaa-4201-a887-8cb10093b5cf');\n",
              "          const dataTable =\n",
              "            await google.colab.kernel.invokeFunction('convertToInteractive',\n",
              "                                                     [key], {});\n",
              "          if (!dataTable) return;\n",
              "\n",
              "          const docLinkHtml = 'Like what you see? Visit the ' +\n",
              "            '<a target=\"_blank\" href=https://colab.research.google.com/notebooks/data_table.ipynb>data table notebook</a>'\n",
              "            + ' to learn more about interactive tables.';\n",
              "          element.innerHTML = '';\n",
              "          dataTable['output_type'] = 'display_data';\n",
              "          await google.colab.output.renderOutput(dataTable, element);\n",
              "          const docLink = document.createElement('div');\n",
              "          docLink.innerHTML = docLinkHtml;\n",
              "          element.appendChild(docLink);\n",
              "        }\n",
              "      </script>\n",
              "    </div>\n",
              "  </div>\n",
              "  "
            ]
          },
          "metadata": {},
          "execution_count": 396
        }
      ]
    },
    {
      "cell_type": "code",
      "source": [
        "train.shape,test.shape\n"
      ],
      "metadata": {
        "colab": {
          "base_uri": "https://localhost:8080/"
        },
        "id": "igW9Pwt3BDh8",
        "outputId": "b651e1c0-8aae-44fc-f36f-12a973614c30"
      },
      "execution_count": 397,
      "outputs": [
        {
          "output_type": "execute_result",
          "data": {
            "text/plain": [
              "((82332, 45), (175341, 45))"
            ]
          },
          "metadata": {},
          "execution_count": 397
        }
      ]
    },
    {
      "cell_type": "code",
      "source": [
        "train.info()\n"
      ],
      "metadata": {
        "colab": {
          "base_uri": "https://localhost:8080/"
        },
        "id": "x9OTZUHtBHg2",
        "outputId": "32c9a697-2b9e-445b-d035-941b214b2ae6"
      },
      "execution_count": 398,
      "outputs": [
        {
          "output_type": "stream",
          "name": "stdout",
          "text": [
            "<class 'pandas.core.frame.DataFrame'>\n",
            "RangeIndex: 82332 entries, 0 to 82331\n",
            "Data columns (total 45 columns):\n",
            " #   Column             Non-Null Count  Dtype  \n",
            "---  ------             --------------  -----  \n",
            " 0   id                 82332 non-null  int64  \n",
            " 1   dur                82332 non-null  float64\n",
            " 2   proto              82332 non-null  object \n",
            " 3   service            82332 non-null  object \n",
            " 4   state              82332 non-null  object \n",
            " 5   spkts              82332 non-null  int64  \n",
            " 6   dpkts              82332 non-null  int64  \n",
            " 7   sbytes             82332 non-null  int64  \n",
            " 8   dbytes             82332 non-null  int64  \n",
            " 9   rate               82332 non-null  float64\n",
            " 10  sttl               82332 non-null  int64  \n",
            " 11  dttl               82332 non-null  int64  \n",
            " 12  sload              82332 non-null  float64\n",
            " 13  dload              82332 non-null  float64\n",
            " 14  sloss              82332 non-null  int64  \n",
            " 15  dloss              82332 non-null  int64  \n",
            " 16  sinpkt             82332 non-null  float64\n",
            " 17  dinpkt             82332 non-null  float64\n",
            " 18  sjit               82332 non-null  float64\n",
            " 19  djit               82332 non-null  float64\n",
            " 20  swin               82332 non-null  int64  \n",
            " 21  stcpb              82332 non-null  int64  \n",
            " 22  dtcpb              82332 non-null  int64  \n",
            " 23  dwin               82332 non-null  int64  \n",
            " 24  tcprtt             82332 non-null  float64\n",
            " 25  synack             82332 non-null  float64\n",
            " 26  ackdat             82332 non-null  float64\n",
            " 27  smean              82332 non-null  int64  \n",
            " 28  dmean              82332 non-null  int64  \n",
            " 29  trans_depth        82332 non-null  int64  \n",
            " 30  response_body_len  82332 non-null  int64  \n",
            " 31  ct_srv_src         82332 non-null  int64  \n",
            " 32  ct_state_ttl       82332 non-null  int64  \n",
            " 33  ct_dst_ltm         82332 non-null  int64  \n",
            " 34  ct_src_dport_ltm   82332 non-null  int64  \n",
            " 35  ct_dst_sport_ltm   82332 non-null  int64  \n",
            " 36  ct_dst_src_ltm     82332 non-null  int64  \n",
            " 37  is_ftp_login       82332 non-null  int64  \n",
            " 38  ct_ftp_cmd         82332 non-null  int64  \n",
            " 39  ct_flw_http_mthd   82332 non-null  int64  \n",
            " 40  ct_src_ltm         82332 non-null  int64  \n",
            " 41  ct_srv_dst         82332 non-null  int64  \n",
            " 42  is_sm_ips_ports    82332 non-null  int64  \n",
            " 43  attack_cat         82332 non-null  object \n",
            " 44  label              82332 non-null  int64  \n",
            "dtypes: float64(11), int64(30), object(4)\n",
            "memory usage: 28.3+ MB\n"
          ]
        }
      ]
    },
    {
      "cell_type": "markdown",
      "source": [
        "# 3. Data Preprocessing"
      ],
      "metadata": {
        "id": "APZajoyTBY5E"
      }
    },
    {
      "cell_type": "markdown",
      "source": [
        "Null Value check"
      ],
      "metadata": {
        "id": "vecNtp_8BlOD"
      }
    },
    {
      "cell_type": "code",
      "source": [
        "train.isnull().sum()\n"
      ],
      "metadata": {
        "colab": {
          "base_uri": "https://localhost:8080/"
        },
        "id": "oH8GlBLQBatS",
        "outputId": "0a007643-00fa-4119-e0dd-f8577345dbf3"
      },
      "execution_count": 399,
      "outputs": [
        {
          "output_type": "execute_result",
          "data": {
            "text/plain": [
              "id                   0\n",
              "dur                  0\n",
              "proto                0\n",
              "service              0\n",
              "state                0\n",
              "spkts                0\n",
              "dpkts                0\n",
              "sbytes               0\n",
              "dbytes               0\n",
              "rate                 0\n",
              "sttl                 0\n",
              "dttl                 0\n",
              "sload                0\n",
              "dload                0\n",
              "sloss                0\n",
              "dloss                0\n",
              "sinpkt               0\n",
              "dinpkt               0\n",
              "sjit                 0\n",
              "djit                 0\n",
              "swin                 0\n",
              "stcpb                0\n",
              "dtcpb                0\n",
              "dwin                 0\n",
              "tcprtt               0\n",
              "synack               0\n",
              "ackdat               0\n",
              "smean                0\n",
              "dmean                0\n",
              "trans_depth          0\n",
              "response_body_len    0\n",
              "ct_srv_src           0\n",
              "ct_state_ttl         0\n",
              "ct_dst_ltm           0\n",
              "ct_src_dport_ltm     0\n",
              "ct_dst_sport_ltm     0\n",
              "ct_dst_src_ltm       0\n",
              "is_ftp_login         0\n",
              "ct_ftp_cmd           0\n",
              "ct_flw_http_mthd     0\n",
              "ct_src_ltm           0\n",
              "ct_srv_dst           0\n",
              "is_sm_ips_ports      0\n",
              "attack_cat           0\n",
              "label                0\n",
              "dtype: int64"
            ]
          },
          "metadata": {},
          "execution_count": 399
        }
      ]
    },
    {
      "cell_type": "markdown",
      "source": [
        "Categorical variables"
      ],
      "metadata": {
        "id": "sA0Le9jEByW3"
      }
    },
    {
      "cell_type": "code",
      "source": [
        "mask = (train.dtypes == np.object)\n",
        "print(train.loc[:,mask].head())\n",
        "list_cat = train.loc[:,mask].columns.tolist()\n",
        "print(list_cat)\n",
        "print(train.loc[:,mask].values)\n"
      ],
      "metadata": {
        "colab": {
          "base_uri": "https://localhost:8080/"
        },
        "id": "SqHjjkheBzN5",
        "outputId": "f2cd1eb0-eaa7-4638-ecad-b275a26d17b7"
      },
      "execution_count": 400,
      "outputs": [
        {
          "output_type": "stream",
          "name": "stdout",
          "text": [
            "  proto service state attack_cat\n",
            "0   udp       -   INT     Normal\n",
            "1   udp       -   INT     Normal\n",
            "2   udp       -   INT     Normal\n",
            "3   udp       -   INT     Normal\n",
            "4   udp       -   INT     Normal\n",
            "['proto', 'service', 'state', 'attack_cat']\n",
            "[['udp' '-' 'INT' 'Normal']\n",
            " ['udp' '-' 'INT' 'Normal']\n",
            " ['udp' '-' 'INT' 'Normal']\n",
            " ...\n",
            " ['arp' '-' 'INT' 'Normal']\n",
            " ['arp' '-' 'INT' 'Normal']\n",
            " ['udp' '-' 'INT' 'Normal']]\n"
          ]
        }
      ]
    },
    {
      "cell_type": "markdown",
      "source": [
        "Numeric variables"
      ],
      "metadata": {
        "id": "lLZUxLfCCKXe"
      }
    },
    {
      "cell_type": "code",
      "source": [
        "mask = (train.dtypes != np.object)\n",
        "print(train.loc[:,mask].head())\n",
        "list_cat = train.loc[:,mask].columns.tolist()\n",
        "print(list_cat)\n",
        "train.loc[:,mask].describe()"
      ],
      "metadata": {
        "colab": {
          "base_uri": "https://localhost:8080/",
          "height": 1000
        },
        "id": "DMYY1svwCLPl",
        "outputId": "6f3a7b03-a883-4982-acf1-830329c4ad13"
      },
      "execution_count": 401,
      "outputs": [
        {
          "output_type": "stream",
          "name": "stdout",
          "text": [
            "   id       dur  spkts  dpkts  sbytes  dbytes         rate  sttl  dttl  \\\n",
            "0   1  0.000011      2      0     496       0   90909.0902   254     0   \n",
            "1   2  0.000008      2      0    1762       0  125000.0003   254     0   \n",
            "2   3  0.000005      2      0    1068       0  200000.0051   254     0   \n",
            "3   4  0.000006      2      0     900       0  166666.6608   254     0   \n",
            "4   5  0.000010      2      0    2126       0  100000.0025   254     0   \n",
            "\n",
            "         sload  dload  sloss  dloss  sinpkt  dinpkt  sjit  djit  swin  stcpb  \\\n",
            "0  180363632.0    0.0      0      0   0.011     0.0   0.0   0.0     0      0   \n",
            "1  881000000.0    0.0      0      0   0.008     0.0   0.0   0.0     0      0   \n",
            "2  854400000.0    0.0      0      0   0.005     0.0   0.0   0.0     0      0   \n",
            "3  600000000.0    0.0      0      0   0.006     0.0   0.0   0.0     0      0   \n",
            "4  850400000.0    0.0      0      0   0.010     0.0   0.0   0.0     0      0   \n",
            "\n",
            "   dtcpb  dwin  tcprtt  synack  ackdat  smean  dmean  trans_depth  \\\n",
            "0      0     0     0.0     0.0     0.0    248      0            0   \n",
            "1      0     0     0.0     0.0     0.0    881      0            0   \n",
            "2      0     0     0.0     0.0     0.0    534      0            0   \n",
            "3      0     0     0.0     0.0     0.0    450      0            0   \n",
            "4      0     0     0.0     0.0     0.0   1063      0            0   \n",
            "\n",
            "   response_body_len  ct_srv_src  ct_state_ttl  ct_dst_ltm  ct_src_dport_ltm  \\\n",
            "0                  0           2             2           1                 1   \n",
            "1                  0           2             2           1                 1   \n",
            "2                  0           3             2           1                 1   \n",
            "3                  0           3             2           2                 2   \n",
            "4                  0           3             2           2                 2   \n",
            "\n",
            "   ct_dst_sport_ltm  ct_dst_src_ltm  is_ftp_login  ct_ftp_cmd  \\\n",
            "0                 1               2             0           0   \n",
            "1                 1               2             0           0   \n",
            "2                 1               3             0           0   \n",
            "3                 1               3             0           0   \n",
            "4                 1               3             0           0   \n",
            "\n",
            "   ct_flw_http_mthd  ct_src_ltm  ct_srv_dst  is_sm_ips_ports  label  \n",
            "0                 0           1           2                0      0  \n",
            "1                 0           1           2                0      0  \n",
            "2                 0           1           3                0      0  \n",
            "3                 0           2           3                0      0  \n",
            "4                 0           2           3                0      0  \n",
            "['id', 'dur', 'spkts', 'dpkts', 'sbytes', 'dbytes', 'rate', 'sttl', 'dttl', 'sload', 'dload', 'sloss', 'dloss', 'sinpkt', 'dinpkt', 'sjit', 'djit', 'swin', 'stcpb', 'dtcpb', 'dwin', 'tcprtt', 'synack', 'ackdat', 'smean', 'dmean', 'trans_depth', 'response_body_len', 'ct_srv_src', 'ct_state_ttl', 'ct_dst_ltm', 'ct_src_dport_ltm', 'ct_dst_sport_ltm', 'ct_dst_src_ltm', 'is_ftp_login', 'ct_ftp_cmd', 'ct_flw_http_mthd', 'ct_src_ltm', 'ct_srv_dst', 'is_sm_ips_ports', 'label']\n"
          ]
        },
        {
          "output_type": "execute_result",
          "data": {
            "text/plain": [
              "                 id           dur         spkts         dpkts        sbytes  \\\n",
              "count  82332.000000  82332.000000  82332.000000  82332.000000  8.233200e+04   \n",
              "mean   41166.500000      1.006756     18.666472     17.545936  7.993908e+03   \n",
              "std    23767.345519      4.710444    133.916353    115.574086  1.716423e+05   \n",
              "min        1.000000      0.000000      1.000000      0.000000  2.400000e+01   \n",
              "25%    20583.750000      0.000008      2.000000      0.000000  1.140000e+02   \n",
              "50%    41166.500000      0.014138      6.000000      2.000000  5.340000e+02   \n",
              "75%    61749.250000      0.719360     12.000000     10.000000  1.280000e+03   \n",
              "max    82332.000000     59.999989  10646.000000  11018.000000  1.435577e+07   \n",
              "\n",
              "             dbytes          rate          sttl          dttl         sload  \\\n",
              "count  8.233200e+04  8.233200e+04  82332.000000  82332.000000  8.233200e+04   \n",
              "mean   1.323379e+04  8.241089e+04    180.967667     95.713003  6.454902e+07   \n",
              "std    1.514715e+05  1.486204e+05    101.513358    116.667722  1.798618e+08   \n",
              "min    0.000000e+00  0.000000e+00      0.000000      0.000000  0.000000e+00   \n",
              "25%    0.000000e+00  2.860611e+01     62.000000      0.000000  1.120247e+04   \n",
              "50%    1.780000e+02  2.650177e+03    254.000000     29.000000  5.770032e+05   \n",
              "75%    9.560000e+02  1.111111e+05    254.000000    252.000000  6.514286e+07   \n",
              "max    1.465753e+07  1.000000e+06    255.000000    253.000000  5.268000e+09   \n",
              "\n",
              "              dload         sloss         dloss        sinpkt        dinpkt  \\\n",
              "count  8.233200e+04  82332.000000  82332.000000  82332.000000  82332.000000   \n",
              "mean   6.305470e+05      4.753692      6.308556    755.394301    121.701284   \n",
              "std    2.393001e+06     64.649620     55.708021   6182.615732   1292.378499   \n",
              "min    0.000000e+00      0.000000      0.000000      0.000000      0.000000   \n",
              "25%    0.000000e+00      0.000000      0.000000      0.008000      0.000000   \n",
              "50%    2.112951e+03      1.000000      0.000000      0.557929      0.010000   \n",
              "75%    1.585808e+04      3.000000      2.000000     63.409444     63.136369   \n",
              "max    2.082111e+07   5319.000000   5507.000000  60009.992000  57739.240000   \n",
              "\n",
              "               sjit           djit         swin         stcpb         dtcpb  \\\n",
              "count  8.233200e+04   82332.000000  82332.00000  8.233200e+04  8.233200e+04   \n",
              "mean   6.363075e+03     535.180430    133.45908  1.084642e+09  1.073465e+09   \n",
              "std    5.672402e+04    3635.305383    127.35700  1.390860e+09  1.381996e+09   \n",
              "min    0.000000e+00       0.000000      0.00000  0.000000e+00  0.000000e+00   \n",
              "25%    0.000000e+00       0.000000      0.00000  0.000000e+00  0.000000e+00   \n",
              "50%    1.762392e+01       0.000000    255.00000  2.788886e+07  2.856975e+07   \n",
              "75%    3.219332e+03     128.459914    255.00000  2.171310e+09  2.144205e+09   \n",
              "max    1.483831e+06  463199.240100    255.00000  4.294950e+09  4.294881e+09   \n",
              "\n",
              "              dwin        tcprtt        synack        ackdat         smean  \\\n",
              "count  82332.00000  82332.000000  82332.000000  82332.000000  82332.000000   \n",
              "mean     128.28662      0.055925      0.029256      0.026669    139.528604   \n",
              "std      127.49137      0.116022      0.070854      0.055094    208.472063   \n",
              "min        0.00000      0.000000      0.000000      0.000000     24.000000   \n",
              "25%        0.00000      0.000000      0.000000      0.000000     57.000000   \n",
              "50%      255.00000      0.000551      0.000441      0.000080     65.000000   \n",
              "75%      255.00000      0.105541      0.052596      0.048816    100.000000   \n",
              "max      255.00000      3.821465      3.226788      2.928778   1504.000000   \n",
              "\n",
              "              dmean   trans_depth  response_body_len    ct_srv_src  \\\n",
              "count  82332.000000  82332.000000       8.233200e+04  82332.000000   \n",
              "mean     116.275069      0.094277       1.595372e+03      9.546604   \n",
              "std      244.600271      0.542922       3.806697e+04     11.090289   \n",
              "min        0.000000      0.000000       0.000000e+00      1.000000   \n",
              "25%        0.000000      0.000000       0.000000e+00      2.000000   \n",
              "50%       44.000000      0.000000       0.000000e+00      5.000000   \n",
              "75%       87.000000      0.000000       0.000000e+00     11.000000   \n",
              "max     1500.000000    131.000000       5.242880e+06     63.000000   \n",
              "\n",
              "       ct_state_ttl    ct_dst_ltm  ct_src_dport_ltm  ct_dst_sport_ltm  \\\n",
              "count  82332.000000  82332.000000      82332.000000      82332.000000   \n",
              "mean       1.369273      5.744923          4.928898          3.663011   \n",
              "std        1.067188      8.418112          8.389545          5.915386   \n",
              "min        0.000000      1.000000          1.000000          1.000000   \n",
              "25%        1.000000      1.000000          1.000000          1.000000   \n",
              "50%        1.000000      2.000000          1.000000          1.000000   \n",
              "75%        2.000000      6.000000          4.000000          3.000000   \n",
              "max        6.000000     59.000000         59.000000         38.000000   \n",
              "\n",
              "       ct_dst_src_ltm  is_ftp_login    ct_ftp_cmd  ct_flw_http_mthd  \\\n",
              "count    82332.000000  82332.000000  82332.000000      82332.000000   \n",
              "mean         7.456360      0.008284      0.008381          0.129743   \n",
              "std         11.415191      0.091171      0.092485          0.638683   \n",
              "min          1.000000      0.000000      0.000000          0.000000   \n",
              "25%          1.000000      0.000000      0.000000          0.000000   \n",
              "50%          3.000000      0.000000      0.000000          0.000000   \n",
              "75%          6.000000      0.000000      0.000000          0.000000   \n",
              "max         63.000000      2.000000      2.000000         16.000000   \n",
              "\n",
              "         ct_src_ltm    ct_srv_dst  is_sm_ips_ports         label  \n",
              "count  82332.000000  82332.000000     82332.000000  82332.000000  \n",
              "mean       6.468360      9.164262         0.011126      0.550600  \n",
              "std        8.543927     11.121413         0.104891      0.497436  \n",
              "min        1.000000      1.000000         0.000000      0.000000  \n",
              "25%        1.000000      2.000000         0.000000      0.000000  \n",
              "50%        3.000000      5.000000         0.000000      1.000000  \n",
              "75%        7.000000     11.000000         0.000000      1.000000  \n",
              "max       60.000000     62.000000         1.000000      1.000000  "
            ],
            "text/html": [
              "\n",
              "  <div id=\"df-c86151e1-0366-4252-8454-756ec4be2fa2\">\n",
              "    <div class=\"colab-df-container\">\n",
              "      <div>\n",
              "<style scoped>\n",
              "    .dataframe tbody tr th:only-of-type {\n",
              "        vertical-align: middle;\n",
              "    }\n",
              "\n",
              "    .dataframe tbody tr th {\n",
              "        vertical-align: top;\n",
              "    }\n",
              "\n",
              "    .dataframe thead th {\n",
              "        text-align: right;\n",
              "    }\n",
              "</style>\n",
              "<table border=\"1\" class=\"dataframe\">\n",
              "  <thead>\n",
              "    <tr style=\"text-align: right;\">\n",
              "      <th></th>\n",
              "      <th>id</th>\n",
              "      <th>dur</th>\n",
              "      <th>spkts</th>\n",
              "      <th>dpkts</th>\n",
              "      <th>sbytes</th>\n",
              "      <th>dbytes</th>\n",
              "      <th>rate</th>\n",
              "      <th>sttl</th>\n",
              "      <th>dttl</th>\n",
              "      <th>sload</th>\n",
              "      <th>dload</th>\n",
              "      <th>sloss</th>\n",
              "      <th>dloss</th>\n",
              "      <th>sinpkt</th>\n",
              "      <th>dinpkt</th>\n",
              "      <th>sjit</th>\n",
              "      <th>djit</th>\n",
              "      <th>swin</th>\n",
              "      <th>stcpb</th>\n",
              "      <th>dtcpb</th>\n",
              "      <th>dwin</th>\n",
              "      <th>tcprtt</th>\n",
              "      <th>synack</th>\n",
              "      <th>ackdat</th>\n",
              "      <th>smean</th>\n",
              "      <th>dmean</th>\n",
              "      <th>trans_depth</th>\n",
              "      <th>response_body_len</th>\n",
              "      <th>ct_srv_src</th>\n",
              "      <th>ct_state_ttl</th>\n",
              "      <th>ct_dst_ltm</th>\n",
              "      <th>ct_src_dport_ltm</th>\n",
              "      <th>ct_dst_sport_ltm</th>\n",
              "      <th>ct_dst_src_ltm</th>\n",
              "      <th>is_ftp_login</th>\n",
              "      <th>ct_ftp_cmd</th>\n",
              "      <th>ct_flw_http_mthd</th>\n",
              "      <th>ct_src_ltm</th>\n",
              "      <th>ct_srv_dst</th>\n",
              "      <th>is_sm_ips_ports</th>\n",
              "      <th>label</th>\n",
              "    </tr>\n",
              "  </thead>\n",
              "  <tbody>\n",
              "    <tr>\n",
              "      <th>count</th>\n",
              "      <td>82332.000000</td>\n",
              "      <td>82332.000000</td>\n",
              "      <td>82332.000000</td>\n",
              "      <td>82332.000000</td>\n",
              "      <td>8.233200e+04</td>\n",
              "      <td>8.233200e+04</td>\n",
              "      <td>8.233200e+04</td>\n",
              "      <td>82332.000000</td>\n",
              "      <td>82332.000000</td>\n",
              "      <td>8.233200e+04</td>\n",
              "      <td>8.233200e+04</td>\n",
              "      <td>82332.000000</td>\n",
              "      <td>82332.000000</td>\n",
              "      <td>82332.000000</td>\n",
              "      <td>82332.000000</td>\n",
              "      <td>8.233200e+04</td>\n",
              "      <td>82332.000000</td>\n",
              "      <td>82332.00000</td>\n",
              "      <td>8.233200e+04</td>\n",
              "      <td>8.233200e+04</td>\n",
              "      <td>82332.00000</td>\n",
              "      <td>82332.000000</td>\n",
              "      <td>82332.000000</td>\n",
              "      <td>82332.000000</td>\n",
              "      <td>82332.000000</td>\n",
              "      <td>82332.000000</td>\n",
              "      <td>82332.000000</td>\n",
              "      <td>8.233200e+04</td>\n",
              "      <td>82332.000000</td>\n",
              "      <td>82332.000000</td>\n",
              "      <td>82332.000000</td>\n",
              "      <td>82332.000000</td>\n",
              "      <td>82332.000000</td>\n",
              "      <td>82332.000000</td>\n",
              "      <td>82332.000000</td>\n",
              "      <td>82332.000000</td>\n",
              "      <td>82332.000000</td>\n",
              "      <td>82332.000000</td>\n",
              "      <td>82332.000000</td>\n",
              "      <td>82332.000000</td>\n",
              "      <td>82332.000000</td>\n",
              "    </tr>\n",
              "    <tr>\n",
              "      <th>mean</th>\n",
              "      <td>41166.500000</td>\n",
              "      <td>1.006756</td>\n",
              "      <td>18.666472</td>\n",
              "      <td>17.545936</td>\n",
              "      <td>7.993908e+03</td>\n",
              "      <td>1.323379e+04</td>\n",
              "      <td>8.241089e+04</td>\n",
              "      <td>180.967667</td>\n",
              "      <td>95.713003</td>\n",
              "      <td>6.454902e+07</td>\n",
              "      <td>6.305470e+05</td>\n",
              "      <td>4.753692</td>\n",
              "      <td>6.308556</td>\n",
              "      <td>755.394301</td>\n",
              "      <td>121.701284</td>\n",
              "      <td>6.363075e+03</td>\n",
              "      <td>535.180430</td>\n",
              "      <td>133.45908</td>\n",
              "      <td>1.084642e+09</td>\n",
              "      <td>1.073465e+09</td>\n",
              "      <td>128.28662</td>\n",
              "      <td>0.055925</td>\n",
              "      <td>0.029256</td>\n",
              "      <td>0.026669</td>\n",
              "      <td>139.528604</td>\n",
              "      <td>116.275069</td>\n",
              "      <td>0.094277</td>\n",
              "      <td>1.595372e+03</td>\n",
              "      <td>9.546604</td>\n",
              "      <td>1.369273</td>\n",
              "      <td>5.744923</td>\n",
              "      <td>4.928898</td>\n",
              "      <td>3.663011</td>\n",
              "      <td>7.456360</td>\n",
              "      <td>0.008284</td>\n",
              "      <td>0.008381</td>\n",
              "      <td>0.129743</td>\n",
              "      <td>6.468360</td>\n",
              "      <td>9.164262</td>\n",
              "      <td>0.011126</td>\n",
              "      <td>0.550600</td>\n",
              "    </tr>\n",
              "    <tr>\n",
              "      <th>std</th>\n",
              "      <td>23767.345519</td>\n",
              "      <td>4.710444</td>\n",
              "      <td>133.916353</td>\n",
              "      <td>115.574086</td>\n",
              "      <td>1.716423e+05</td>\n",
              "      <td>1.514715e+05</td>\n",
              "      <td>1.486204e+05</td>\n",
              "      <td>101.513358</td>\n",
              "      <td>116.667722</td>\n",
              "      <td>1.798618e+08</td>\n",
              "      <td>2.393001e+06</td>\n",
              "      <td>64.649620</td>\n",
              "      <td>55.708021</td>\n",
              "      <td>6182.615732</td>\n",
              "      <td>1292.378499</td>\n",
              "      <td>5.672402e+04</td>\n",
              "      <td>3635.305383</td>\n",
              "      <td>127.35700</td>\n",
              "      <td>1.390860e+09</td>\n",
              "      <td>1.381996e+09</td>\n",
              "      <td>127.49137</td>\n",
              "      <td>0.116022</td>\n",
              "      <td>0.070854</td>\n",
              "      <td>0.055094</td>\n",
              "      <td>208.472063</td>\n",
              "      <td>244.600271</td>\n",
              "      <td>0.542922</td>\n",
              "      <td>3.806697e+04</td>\n",
              "      <td>11.090289</td>\n",
              "      <td>1.067188</td>\n",
              "      <td>8.418112</td>\n",
              "      <td>8.389545</td>\n",
              "      <td>5.915386</td>\n",
              "      <td>11.415191</td>\n",
              "      <td>0.091171</td>\n",
              "      <td>0.092485</td>\n",
              "      <td>0.638683</td>\n",
              "      <td>8.543927</td>\n",
              "      <td>11.121413</td>\n",
              "      <td>0.104891</td>\n",
              "      <td>0.497436</td>\n",
              "    </tr>\n",
              "    <tr>\n",
              "      <th>min</th>\n",
              "      <td>1.000000</td>\n",
              "      <td>0.000000</td>\n",
              "      <td>1.000000</td>\n",
              "      <td>0.000000</td>\n",
              "      <td>2.400000e+01</td>\n",
              "      <td>0.000000e+00</td>\n",
              "      <td>0.000000e+00</td>\n",
              "      <td>0.000000</td>\n",
              "      <td>0.000000</td>\n",
              "      <td>0.000000e+00</td>\n",
              "      <td>0.000000e+00</td>\n",
              "      <td>0.000000</td>\n",
              "      <td>0.000000</td>\n",
              "      <td>0.000000</td>\n",
              "      <td>0.000000</td>\n",
              "      <td>0.000000e+00</td>\n",
              "      <td>0.000000</td>\n",
              "      <td>0.00000</td>\n",
              "      <td>0.000000e+00</td>\n",
              "      <td>0.000000e+00</td>\n",
              "      <td>0.00000</td>\n",
              "      <td>0.000000</td>\n",
              "      <td>0.000000</td>\n",
              "      <td>0.000000</td>\n",
              "      <td>24.000000</td>\n",
              "      <td>0.000000</td>\n",
              "      <td>0.000000</td>\n",
              "      <td>0.000000e+00</td>\n",
              "      <td>1.000000</td>\n",
              "      <td>0.000000</td>\n",
              "      <td>1.000000</td>\n",
              "      <td>1.000000</td>\n",
              "      <td>1.000000</td>\n",
              "      <td>1.000000</td>\n",
              "      <td>0.000000</td>\n",
              "      <td>0.000000</td>\n",
              "      <td>0.000000</td>\n",
              "      <td>1.000000</td>\n",
              "      <td>1.000000</td>\n",
              "      <td>0.000000</td>\n",
              "      <td>0.000000</td>\n",
              "    </tr>\n",
              "    <tr>\n",
              "      <th>25%</th>\n",
              "      <td>20583.750000</td>\n",
              "      <td>0.000008</td>\n",
              "      <td>2.000000</td>\n",
              "      <td>0.000000</td>\n",
              "      <td>1.140000e+02</td>\n",
              "      <td>0.000000e+00</td>\n",
              "      <td>2.860611e+01</td>\n",
              "      <td>62.000000</td>\n",
              "      <td>0.000000</td>\n",
              "      <td>1.120247e+04</td>\n",
              "      <td>0.000000e+00</td>\n",
              "      <td>0.000000</td>\n",
              "      <td>0.000000</td>\n",
              "      <td>0.008000</td>\n",
              "      <td>0.000000</td>\n",
              "      <td>0.000000e+00</td>\n",
              "      <td>0.000000</td>\n",
              "      <td>0.00000</td>\n",
              "      <td>0.000000e+00</td>\n",
              "      <td>0.000000e+00</td>\n",
              "      <td>0.00000</td>\n",
              "      <td>0.000000</td>\n",
              "      <td>0.000000</td>\n",
              "      <td>0.000000</td>\n",
              "      <td>57.000000</td>\n",
              "      <td>0.000000</td>\n",
              "      <td>0.000000</td>\n",
              "      <td>0.000000e+00</td>\n",
              "      <td>2.000000</td>\n",
              "      <td>1.000000</td>\n",
              "      <td>1.000000</td>\n",
              "      <td>1.000000</td>\n",
              "      <td>1.000000</td>\n",
              "      <td>1.000000</td>\n",
              "      <td>0.000000</td>\n",
              "      <td>0.000000</td>\n",
              "      <td>0.000000</td>\n",
              "      <td>1.000000</td>\n",
              "      <td>2.000000</td>\n",
              "      <td>0.000000</td>\n",
              "      <td>0.000000</td>\n",
              "    </tr>\n",
              "    <tr>\n",
              "      <th>50%</th>\n",
              "      <td>41166.500000</td>\n",
              "      <td>0.014138</td>\n",
              "      <td>6.000000</td>\n",
              "      <td>2.000000</td>\n",
              "      <td>5.340000e+02</td>\n",
              "      <td>1.780000e+02</td>\n",
              "      <td>2.650177e+03</td>\n",
              "      <td>254.000000</td>\n",
              "      <td>29.000000</td>\n",
              "      <td>5.770032e+05</td>\n",
              "      <td>2.112951e+03</td>\n",
              "      <td>1.000000</td>\n",
              "      <td>0.000000</td>\n",
              "      <td>0.557929</td>\n",
              "      <td>0.010000</td>\n",
              "      <td>1.762392e+01</td>\n",
              "      <td>0.000000</td>\n",
              "      <td>255.00000</td>\n",
              "      <td>2.788886e+07</td>\n",
              "      <td>2.856975e+07</td>\n",
              "      <td>255.00000</td>\n",
              "      <td>0.000551</td>\n",
              "      <td>0.000441</td>\n",
              "      <td>0.000080</td>\n",
              "      <td>65.000000</td>\n",
              "      <td>44.000000</td>\n",
              "      <td>0.000000</td>\n",
              "      <td>0.000000e+00</td>\n",
              "      <td>5.000000</td>\n",
              "      <td>1.000000</td>\n",
              "      <td>2.000000</td>\n",
              "      <td>1.000000</td>\n",
              "      <td>1.000000</td>\n",
              "      <td>3.000000</td>\n",
              "      <td>0.000000</td>\n",
              "      <td>0.000000</td>\n",
              "      <td>0.000000</td>\n",
              "      <td>3.000000</td>\n",
              "      <td>5.000000</td>\n",
              "      <td>0.000000</td>\n",
              "      <td>1.000000</td>\n",
              "    </tr>\n",
              "    <tr>\n",
              "      <th>75%</th>\n",
              "      <td>61749.250000</td>\n",
              "      <td>0.719360</td>\n",
              "      <td>12.000000</td>\n",
              "      <td>10.000000</td>\n",
              "      <td>1.280000e+03</td>\n",
              "      <td>9.560000e+02</td>\n",
              "      <td>1.111111e+05</td>\n",
              "      <td>254.000000</td>\n",
              "      <td>252.000000</td>\n",
              "      <td>6.514286e+07</td>\n",
              "      <td>1.585808e+04</td>\n",
              "      <td>3.000000</td>\n",
              "      <td>2.000000</td>\n",
              "      <td>63.409444</td>\n",
              "      <td>63.136369</td>\n",
              "      <td>3.219332e+03</td>\n",
              "      <td>128.459914</td>\n",
              "      <td>255.00000</td>\n",
              "      <td>2.171310e+09</td>\n",
              "      <td>2.144205e+09</td>\n",
              "      <td>255.00000</td>\n",
              "      <td>0.105541</td>\n",
              "      <td>0.052596</td>\n",
              "      <td>0.048816</td>\n",
              "      <td>100.000000</td>\n",
              "      <td>87.000000</td>\n",
              "      <td>0.000000</td>\n",
              "      <td>0.000000e+00</td>\n",
              "      <td>11.000000</td>\n",
              "      <td>2.000000</td>\n",
              "      <td>6.000000</td>\n",
              "      <td>4.000000</td>\n",
              "      <td>3.000000</td>\n",
              "      <td>6.000000</td>\n",
              "      <td>0.000000</td>\n",
              "      <td>0.000000</td>\n",
              "      <td>0.000000</td>\n",
              "      <td>7.000000</td>\n",
              "      <td>11.000000</td>\n",
              "      <td>0.000000</td>\n",
              "      <td>1.000000</td>\n",
              "    </tr>\n",
              "    <tr>\n",
              "      <th>max</th>\n",
              "      <td>82332.000000</td>\n",
              "      <td>59.999989</td>\n",
              "      <td>10646.000000</td>\n",
              "      <td>11018.000000</td>\n",
              "      <td>1.435577e+07</td>\n",
              "      <td>1.465753e+07</td>\n",
              "      <td>1.000000e+06</td>\n",
              "      <td>255.000000</td>\n",
              "      <td>253.000000</td>\n",
              "      <td>5.268000e+09</td>\n",
              "      <td>2.082111e+07</td>\n",
              "      <td>5319.000000</td>\n",
              "      <td>5507.000000</td>\n",
              "      <td>60009.992000</td>\n",
              "      <td>57739.240000</td>\n",
              "      <td>1.483831e+06</td>\n",
              "      <td>463199.240100</td>\n",
              "      <td>255.00000</td>\n",
              "      <td>4.294950e+09</td>\n",
              "      <td>4.294881e+09</td>\n",
              "      <td>255.00000</td>\n",
              "      <td>3.821465</td>\n",
              "      <td>3.226788</td>\n",
              "      <td>2.928778</td>\n",
              "      <td>1504.000000</td>\n",
              "      <td>1500.000000</td>\n",
              "      <td>131.000000</td>\n",
              "      <td>5.242880e+06</td>\n",
              "      <td>63.000000</td>\n",
              "      <td>6.000000</td>\n",
              "      <td>59.000000</td>\n",
              "      <td>59.000000</td>\n",
              "      <td>38.000000</td>\n",
              "      <td>63.000000</td>\n",
              "      <td>2.000000</td>\n",
              "      <td>2.000000</td>\n",
              "      <td>16.000000</td>\n",
              "      <td>60.000000</td>\n",
              "      <td>62.000000</td>\n",
              "      <td>1.000000</td>\n",
              "      <td>1.000000</td>\n",
              "    </tr>\n",
              "  </tbody>\n",
              "</table>\n",
              "</div>\n",
              "      <button class=\"colab-df-convert\" onclick=\"convertToInteractive('df-c86151e1-0366-4252-8454-756ec4be2fa2')\"\n",
              "              title=\"Convert this dataframe to an interactive table.\"\n",
              "              style=\"display:none;\">\n",
              "        \n",
              "  <svg xmlns=\"http://www.w3.org/2000/svg\" height=\"24px\"viewBox=\"0 0 24 24\"\n",
              "       width=\"24px\">\n",
              "    <path d=\"M0 0h24v24H0V0z\" fill=\"none\"/>\n",
              "    <path d=\"M18.56 5.44l.94 2.06.94-2.06 2.06-.94-2.06-.94-.94-2.06-.94 2.06-2.06.94zm-11 1L8.5 8.5l.94-2.06 2.06-.94-2.06-.94L8.5 2.5l-.94 2.06-2.06.94zm10 10l.94 2.06.94-2.06 2.06-.94-2.06-.94-.94-2.06-.94 2.06-2.06.94z\"/><path d=\"M17.41 7.96l-1.37-1.37c-.4-.4-.92-.59-1.43-.59-.52 0-1.04.2-1.43.59L10.3 9.45l-7.72 7.72c-.78.78-.78 2.05 0 2.83L4 21.41c.39.39.9.59 1.41.59.51 0 1.02-.2 1.41-.59l7.78-7.78 2.81-2.81c.8-.78.8-2.07 0-2.86zM5.41 20L4 18.59l7.72-7.72 1.47 1.35L5.41 20z\"/>\n",
              "  </svg>\n",
              "      </button>\n",
              "      \n",
              "  <style>\n",
              "    .colab-df-container {\n",
              "      display:flex;\n",
              "      flex-wrap:wrap;\n",
              "      gap: 12px;\n",
              "    }\n",
              "\n",
              "    .colab-df-convert {\n",
              "      background-color: #E8F0FE;\n",
              "      border: none;\n",
              "      border-radius: 50%;\n",
              "      cursor: pointer;\n",
              "      display: none;\n",
              "      fill: #1967D2;\n",
              "      height: 32px;\n",
              "      padding: 0 0 0 0;\n",
              "      width: 32px;\n",
              "    }\n",
              "\n",
              "    .colab-df-convert:hover {\n",
              "      background-color: #E2EBFA;\n",
              "      box-shadow: 0px 1px 2px rgba(60, 64, 67, 0.3), 0px 1px 3px 1px rgba(60, 64, 67, 0.15);\n",
              "      fill: #174EA6;\n",
              "    }\n",
              "\n",
              "    [theme=dark] .colab-df-convert {\n",
              "      background-color: #3B4455;\n",
              "      fill: #D2E3FC;\n",
              "    }\n",
              "\n",
              "    [theme=dark] .colab-df-convert:hover {\n",
              "      background-color: #434B5C;\n",
              "      box-shadow: 0px 1px 3px 1px rgba(0, 0, 0, 0.15);\n",
              "      filter: drop-shadow(0px 1px 2px rgba(0, 0, 0, 0.3));\n",
              "      fill: #FFFFFF;\n",
              "    }\n",
              "  </style>\n",
              "\n",
              "      <script>\n",
              "        const buttonEl =\n",
              "          document.querySelector('#df-c86151e1-0366-4252-8454-756ec4be2fa2 button.colab-df-convert');\n",
              "        buttonEl.style.display =\n",
              "          google.colab.kernel.accessAllowed ? 'block' : 'none';\n",
              "\n",
              "        async function convertToInteractive(key) {\n",
              "          const element = document.querySelector('#df-c86151e1-0366-4252-8454-756ec4be2fa2');\n",
              "          const dataTable =\n",
              "            await google.colab.kernel.invokeFunction('convertToInteractive',\n",
              "                                                     [key], {});\n",
              "          if (!dataTable) return;\n",
              "\n",
              "          const docLinkHtml = 'Like what you see? Visit the ' +\n",
              "            '<a target=\"_blank\" href=https://colab.research.google.com/notebooks/data_table.ipynb>data table notebook</a>'\n",
              "            + ' to learn more about interactive tables.';\n",
              "          element.innerHTML = '';\n",
              "          dataTable['output_type'] = 'display_data';\n",
              "          await google.colab.output.renderOutput(dataTable, element);\n",
              "          const docLink = document.createElement('div');\n",
              "          docLink.innerHTML = docLinkHtml;\n",
              "          element.appendChild(docLink);\n",
              "        }\n",
              "      </script>\n",
              "    </div>\n",
              "  </div>\n",
              "  "
            ]
          },
          "metadata": {},
          "execution_count": 401
        }
      ]
    },
    {
      "cell_type": "markdown",
      "source": [
        "Evaluation of the training dataset"
      ],
      "metadata": {
        "id": "5krqo2UlCg0Z"
      }
    },
    {
      "cell_type": "code",
      "source": [
        "#  Check whether the positive label (1) match attack categories, and whether attack categories match labelled data.\n",
        "\n",
        "# all(iterable) returns True if all elements of the iterable are considered as true values\n",
        "print(all(((train.attack_cat != 'Attack') & (train.label == 1)) == (train.label == 1)))\n",
        "print(all(((train.attack_cat != 'Normal') & (train.label == 1)) == (train.label == 1)))"
      ],
      "metadata": {
        "colab": {
          "base_uri": "https://localhost:8080/"
        },
        "id": "JHrFXEt8Chsn",
        "outputId": "b5b457bd-c3a7-4c7f-94b0-1319bb406b75"
      },
      "execution_count": 402,
      "outputs": [
        {
          "output_type": "stream",
          "name": "stdout",
          "text": [
            "True\n",
            "True\n"
          ]
        }
      ]
    },
    {
      "cell_type": "markdown",
      "source": [
        "number of occurrences for each attack category"
      ],
      "metadata": {
        "id": "sPYjzw44FOAV"
      }
    },
    {
      "cell_type": "code",
      "source": [
        "train.attack_cat.value_counts()\n"
      ],
      "metadata": {
        "colab": {
          "base_uri": "https://localhost:8080/"
        },
        "id": "Zjfomn2bFQP1",
        "outputId": "61803ad4-fe73-4388-e2ba-7fceab492a3d"
      },
      "execution_count": 403,
      "outputs": [
        {
          "output_type": "execute_result",
          "data": {
            "text/plain": [
              "Normal            37000\n",
              "Generic           18871\n",
              "Exploits          11132\n",
              "Fuzzers            6062\n",
              "DoS                4089\n",
              "Reconnaissance     3496\n",
              "Analysis            677\n",
              "Backdoor            583\n",
              "Shellcode           378\n",
              "Worms                44\n",
              "Name: attack_cat, dtype: int64"
            ]
          },
          "metadata": {},
          "execution_count": 403
        }
      ]
    },
    {
      "cell_type": "markdown",
      "source": [
        "Which protocols and services appear in the positively labelled entries?"
      ],
      "metadata": {
        "id": "MTD05dFJFWSY"
      }
    },
    {
      "cell_type": "code",
      "source": [
        "mask = (train.label == 1)\n",
        "print(train.loc[mask,:].service.value_counts())\n",
        "print(train.loc[mask,:].proto.value_counts())\n"
      ],
      "metadata": {
        "colab": {
          "base_uri": "https://localhost:8080/"
        },
        "id": "gzK5MGxUFZio",
        "outputId": "2de453ad-555f-47f6-b878-4b3bd9a93d4b"
      },
      "execution_count": 404,
      "outputs": [
        {
          "output_type": "stream",
          "name": "stdout",
          "text": [
            "-           19778\n",
            "dns         18299\n",
            "http         4274\n",
            "smtp         1216\n",
            "ftp           794\n",
            "ftp-data      447\n",
            "pop3          423\n",
            "ssl            30\n",
            "snmp           29\n",
            "dhcp           26\n",
            "radius          7\n",
            "irc             5\n",
            "ssh             4\n",
            "Name: service, dtype: int64\n",
            "udp           21321\n",
            "tcp           15247\n",
            "unas           3515\n",
            "ospf            638\n",
            "sctp            324\n",
            "              ...  \n",
            "wb-mon           32\n",
            "br-sat-mon       32\n",
            "pvp              32\n",
            "wsn              32\n",
            "ib               31\n",
            "Name: proto, Length: 129, dtype: int64\n"
          ]
        }
      ]
    },
    {
      "cell_type": "markdown",
      "source": [
        "In the negatively labelled ones?"
      ],
      "metadata": {
        "id": "3B4QkhvUFjj8"
      }
    },
    {
      "cell_type": "code",
      "source": [
        "mask = (train.label == 0)\n",
        "print(train.loc[mask,:].service.value_counts())\n",
        "print(train.loc[mask,:].proto.value_counts())\n"
      ],
      "metadata": {
        "colab": {
          "base_uri": "https://localhost:8080/"
        },
        "id": "Tr4E-D9UFkkY",
        "outputId": "2561ec9f-0f73-4ae7-fcc9-dd5fa0663f6b"
      },
      "execution_count": 405,
      "outputs": [
        {
          "output_type": "stream",
          "name": "stdout",
          "text": [
            "-           27375\n",
            "http         4013\n",
            "dns          3068\n",
            "ftp-data      949\n",
            "ftp           758\n",
            "smtp          635\n",
            "ssh           200\n",
            "radius          2\n",
            "Name: service, dtype: int64\n",
            "tcp     27848\n",
            "udp      8097\n",
            "arp       987\n",
            "ospf       38\n",
            "igmp       30\n",
            "Name: proto, dtype: int64\n"
          ]
        }
      ]
    },
    {
      "cell_type": "markdown",
      "source": [
        "# 3.Data cleaning"
      ],
      "metadata": {
        "id": "0o8MYBIdFsWc"
      }
    },
    {
      "cell_type": "code",
      "source": [
        "print(train.columns.values)\n",
        "print(test.columns.values)\n"
      ],
      "metadata": {
        "colab": {
          "base_uri": "https://localhost:8080/"
        },
        "id": "lnO_AzpYFt0n",
        "outputId": "212f0a6f-a975-419d-f2f6-a1c0048b943e"
      },
      "execution_count": 406,
      "outputs": [
        {
          "output_type": "stream",
          "name": "stdout",
          "text": [
            "['id' 'dur' 'proto' 'service' 'state' 'spkts' 'dpkts' 'sbytes' 'dbytes'\n",
            " 'rate' 'sttl' 'dttl' 'sload' 'dload' 'sloss' 'dloss' 'sinpkt' 'dinpkt'\n",
            " 'sjit' 'djit' 'swin' 'stcpb' 'dtcpb' 'dwin' 'tcprtt' 'synack' 'ackdat'\n",
            " 'smean' 'dmean' 'trans_depth' 'response_body_len' 'ct_srv_src'\n",
            " 'ct_state_ttl' 'ct_dst_ltm' 'ct_src_dport_ltm' 'ct_dst_sport_ltm'\n",
            " 'ct_dst_src_ltm' 'is_ftp_login' 'ct_ftp_cmd' 'ct_flw_http_mthd'\n",
            " 'ct_src_ltm' 'ct_srv_dst' 'is_sm_ips_ports' 'attack_cat' 'label']\n",
            "['id' 'dur' 'proto' 'service' 'state' 'spkts' 'dpkts' 'sbytes' 'dbytes'\n",
            " 'rate' 'sttl' 'dttl' 'sload' 'dload' 'sloss' 'dloss' 'sinpkt' 'dinpkt'\n",
            " 'sjit' 'djit' 'swin' 'stcpb' 'dtcpb' 'dwin' 'tcprtt' 'synack' 'ackdat'\n",
            " 'smean' 'dmean' 'trans_depth' 'response_body_len' 'ct_srv_src'\n",
            " 'ct_state_ttl' 'ct_dst_ltm' 'ct_src_dport_ltm' 'ct_dst_sport_ltm'\n",
            " 'ct_dst_src_ltm' 'is_ftp_login' 'ct_ftp_cmd' 'ct_flw_http_mthd'\n",
            " 'ct_src_ltm' 'ct_srv_dst' 'is_sm_ips_ports' 'attack_cat' 'label']\n"
          ]
        }
      ]
    },
    {
      "cell_type": "code",
      "source": [
        "df = pd.concat([train, test], ignore_index=True)\n",
        "\n",
        "# Remove unwanted columns\n",
        "df.drop(['id', 'attack_cat'], inplace=True, axis=1)\n",
        "\n",
        "# Perform one-hot encoding on categorical columns and join back to main train_data\n",
        "one_hot = pd.get_dummies(df[[\"proto\", \"state\", \"service\"]])\n",
        "df = df.join(one_hot)\n",
        "\n",
        "# Remove the original categorical columns\n",
        "df.drop([\"proto\", \"state\", \"service\"], inplace=True, axis=1)\n",
        "\n",
        "# Re split the data back into train / test\n",
        "train_data = df.iloc[0:175341, 0:]\n",
        "test_data = df.iloc[175341:, 0:]\n",
        "# Create y_train and then drop the label from the training data\n",
        "y_train = np.array(train_data[\"label\"])\n",
        "train_data.drop(['label'], inplace=True, axis=1)\n",
        "\n",
        "y_test = np.array(test_data[\"label\"])\n",
        "test_data.drop(['label'], inplace=True, axis=1)\n",
        "\n",
        "# Use min-max scaler to scale the features to 0-1 range\n",
        "# Only fit the scaler on the train data!!\n",
        "scaler = MinMaxScaler()\n",
        "X_train = scaler.fit_transform(train_data)\n",
        "\n",
        "# Scale the testing data\n",
        "X_test = scaler.transform(test_data)\n",
        "\n",
        "# Ensure our dataset splits are still correct\n",
        "print(f\"Train data shape: {X_train.shape} Train label shape: {y_train.shape}\")\n",
        "print(f\"Test data shape: {X_test.shape} Test label shape: {y_test.shape}\")"
      ],
      "metadata": {
        "colab": {
          "base_uri": "https://localhost:8080/"
        },
        "id": "Gmd9UPdfF92D",
        "outputId": "0f03b894-3c4f-4320-d121-96a3d3b99667"
      },
      "execution_count": 407,
      "outputs": [
        {
          "output_type": "stream",
          "name": "stdout",
          "text": [
            "Train data shape: (175341, 196) Train label shape: (175341,)\n",
            "Test data shape: (82332, 196) Test label shape: (82332,)\n"
          ]
        }
      ]
    },
    {
      "cell_type": "markdown",
      "source": [
        "# 5. Machine Learning Analysis"
      ],
      "metadata": {
        "id": "TUwvOFwHPEPj"
      }
    },
    {
      "cell_type": "code",
      "source": [
        "# SGD Classifier\n",
        "estimator=sgd = SGDClassifier(max_iter=1000000)\n",
        "sgd_fit = sgd.fit(X_train, y_train)\n",
        "y_pred_sgd = sgd_fit.predict(X_test)\n",
        "sgd_accuracy = accuracy_score(y_test, y_pred_sgd)"
      ],
      "metadata": {
        "id": "9-_E5UCsPfMc"
      },
      "execution_count": 408,
      "outputs": []
    },
    {
      "cell_type": "code",
      "source": [
        "from sklearn import metrics\n",
        "from sklearn.metrics import (confusion_matrix, precision_recall_curve, auc, roc_curve, recall_score, \n",
        "                             classification_report, f1_score, average_precision_score, precision_recall_fscore_support)\n"
      ],
      "metadata": {
        "id": "mW3Drh1-TXP6"
      },
      "execution_count": 409,
      "outputs": []
    },
    {
      "cell_type": "code",
      "source": [
        "sgd_accuracy"
      ],
      "metadata": {
        "colab": {
          "base_uri": "https://localhost:8080/"
        },
        "id": "7pagrnFASTnm",
        "outputId": "bb6232c8-e372-4489-ad81-e085052cfffe"
      },
      "execution_count": 410,
      "outputs": [
        {
          "output_type": "execute_result",
          "data": {
            "text/plain": [
              "0.9732181897682554"
            ]
          },
          "metadata": {},
          "execution_count": 410
        }
      ]
    },
    {
      "cell_type": "code",
      "source": [
        "print (\"Accuracy: \" + str(accuracy_score(y_pred_sgd, y_test)))\n",
        "print (\"Precision: \" + str(precision_score(y_pred_sgd, y_test)))\n",
        "print (\"Recall: \" + str(recall_score(y_pred_sgd, y_test)))\n",
        "print (\"F1: \" + str(f1_score(y_pred_sgd, y_test)))\n"
      ],
      "metadata": {
        "colab": {
          "base_uri": "https://localhost:8080/"
        },
        "id": "xxO19xAmSb82",
        "outputId": "937fd3ac-a845-4544-a9a9-8a193540f982"
      },
      "execution_count": 411,
      "outputs": [
        {
          "output_type": "stream",
          "name": "stdout",
          "text": [
            "Accuracy: 0.9732181897682554\n",
            "Precision: 0.9871364581871084\n",
            "Recall: 0.9847612985359644\n",
            "F1: 0.9859474479163347\n"
          ]
        }
      ]
    },
    {
      "cell_type": "code",
      "source": [
        "confusion_matrix(y_test, y_pred_sgd)\n"
      ],
      "metadata": {
        "colab": {
          "base_uri": "https://localhost:8080/"
        },
        "id": "IRZYvdBCShI0",
        "outputId": "2cde90ba-39a7-45fc-854a-14a76698f5fd"
      },
      "execution_count": 412,
      "outputs": [
        {
          "output_type": "execute_result",
          "data": {
            "text/plain": [
              "array([[ 2774,  1197],\n",
              "       [ 1008, 77353]])"
            ]
          },
          "metadata": {},
          "execution_count": 412
        }
      ]
    },
    {
      "cell_type": "code",
      "source": [
        "print(classification_report(y_test, y_pred_sgd))\n"
      ],
      "metadata": {
        "colab": {
          "base_uri": "https://localhost:8080/"
        },
        "id": "Jg9bmSX8Slvl",
        "outputId": "6b88ad9c-efb4-4784-c721-1a1712a0807b"
      },
      "execution_count": 413,
      "outputs": [
        {
          "output_type": "stream",
          "name": "stdout",
          "text": [
            "              precision    recall  f1-score   support\n",
            "\n",
            "           0       0.73      0.70      0.72      3971\n",
            "           1       0.98      0.99      0.99     78361\n",
            "\n",
            "    accuracy                           0.97     82332\n",
            "   macro avg       0.86      0.84      0.85     82332\n",
            "weighted avg       0.97      0.97      0.97     82332\n",
            "\n"
          ]
        }
      ]
    },
    {
      "cell_type": "markdown",
      "source": [
        "**AUROC** **Score**"
      ],
      "metadata": {
        "id": "qerQYROSSuhU"
      }
    },
    {
      "cell_type": "code",
      "source": [
        "sgd_roc_auc_score = roc_auc_score(y_test, y_pred_sgd)\n"
      ],
      "metadata": {
        "id": "MgSoy10pSxbg"
      },
      "execution_count": 414,
      "outputs": []
    },
    {
      "cell_type": "code",
      "source": [
        "sgd_roc_auc_score\n"
      ],
      "metadata": {
        "colab": {
          "base_uri": "https://localhost:8080/"
        },
        "id": "twDrf4wQS5Pd",
        "outputId": "a7f3e6a6-17eb-46c2-d38e-78ca5744b155"
      },
      "execution_count": 415,
      "outputs": [
        {
          "output_type": "execute_result",
          "data": {
            "text/plain": [
              "0.8428505257442718"
            ]
          },
          "metadata": {},
          "execution_count": 415
        }
      ]
    },
    {
      "cell_type": "code",
      "source": [
        "fpr_sgd, tpr_sgd, thresholds_sgd = roc_curve(y_test, y_pred_sgd)\n",
        "roc_auc_sgd = auc(fpr_sgd, tpr_sgd)\n",
        "precision_sgd, recall_sgd, th_sgd = precision_recall_curve(y_test, y_pred_sgd)"
      ],
      "metadata": {
        "id": "kvxJ2V13S9Sn"
      },
      "execution_count": 416,
      "outputs": []
    },
    {
      "cell_type": "markdown",
      "source": [
        "**AUPRC Score**"
      ],
      "metadata": {
        "id": "pxiD8wLwTm9d"
      }
    },
    {
      "cell_type": "code",
      "source": [
        "sgd_auprc_score = average_precision_score(y_test,y_pred_sgd)\n"
      ],
      "metadata": {
        "id": "ojGCgF8QTonb"
      },
      "execution_count": 417,
      "outputs": []
    },
    {
      "cell_type": "code",
      "source": [
        "sgd_auprc_score"
      ],
      "metadata": {
        "colab": {
          "base_uri": "https://localhost:8080/"
        },
        "id": "ciOsvA2VTr9g",
        "outputId": "2cb0c9a2-8121-4514-d604-b2a6cfbdf0d7"
      },
      "execution_count": 418,
      "outputs": [
        {
          "output_type": "execute_result",
          "data": {
            "text/plain": [
              "0.9843368936453272"
            ]
          },
          "metadata": {},
          "execution_count": 418
        }
      ]
    },
    {
      "cell_type": "code",
      "source": [
        "import numpy as np\n",
        "\n",
        "def plot_learning_curve(estimator, title, X, y, ylim=None, cv=None, scoring=None, obj_line=None,\n",
        "                        n_jobs=1, train_sizes=np.linspace(.1, 1.0, 5)):\n",
        "    from sklearn.model_selection import learning_curve\n",
        "    import numpy as np\n",
        "    from matplotlib import pyplot as plt\n",
        "\n",
        "    plt.figure()\n",
        "    plt.title(title)\n",
        "    if ylim is not None:\n",
        "        plt.ylim(*ylim)\n",
        "    plt.xlabel(\"Training examples\")\n",
        "    plt.ylabel(\"Score\")\n",
        "    train_sizes, train_scores, test_scores = learning_curve(\n",
        "        estimator, X, y, cv=cv, scoring=scoring, n_jobs=n_jobs, train_sizes=train_sizes)\n",
        "    train_scores_mean = np.mean(train_scores, axis=1)\n",
        "    train_scores_std = np.std(train_scores, axis=1)\n",
        "    test_scores_mean = np.mean(test_scores, axis=1)\n",
        "    test_scores_std = np.std(test_scores, axis=1)\n",
        "    plt.grid()\n",
        "\n",
        "    plt.fill_between(train_sizes, train_scores_mean - train_scores_std,\n",
        "                     train_scores_mean + train_scores_std, alpha=0.1,\n",
        "                     color=\"r\")\n",
        "    plt.fill_between(train_sizes, test_scores_mean - test_scores_std,\n",
        "                     test_scores_mean + test_scores_std, alpha=0.1, color=\"g\")\n",
        "    plt.plot(train_sizes, train_scores_mean, 'o-', color=\"r\",\n",
        "             label=\"Training score\")\n",
        "    plt.plot(train_sizes, test_scores_mean, 'o-', color=\"g\",\n",
        "             label=\"Cross-validation score\")\n",
        "\n",
        "    if obj_line:\n",
        "        plt.axhline(y=obj_line, color='blue')\n",
        "    plt.legend(loc=\"best\")\n",
        "    return plt"
      ],
      "metadata": {
        "id": "cmCQZ9euV6zn"
      },
      "execution_count": 419,
      "outputs": []
    },
    {
      "cell_type": "code",
      "source": [
        "from sklearn.model_selection import ShuffleSplit\n",
        "from sklearn.model_selection import StratifiedKFold"
      ],
      "metadata": {
        "id": "3eDLvSfhWbMz"
      },
      "execution_count": 420,
      "outputs": []
    },
    {
      "cell_type": "code",
      "source": [
        " X, y = X_train, y_train\n",
        "plot_learning_curve(estimator = estimator,\n",
        "                    title     = \"Learning Curves (SGD)\",\n",
        "                    X         = X,\n",
        "                    y         = y,\n",
        "                    ylim      = (0.5, 1.1),\n",
        "                    cv        = StratifiedKFold(),\n",
        "                    scoring   = 'accuracy',     \n",
        "                    obj_line  = 0.90,    \n",
        "                    n_jobs    = -1)  \n",
        "plt.show()\n"
      ],
      "metadata": {
        "colab": {
          "base_uri": "https://localhost:8080/",
          "height": 294
        },
        "id": "R-3xYY3fU_UR",
        "outputId": "f84d1b83-c9e4-437e-e8f8-6069022823b0"
      },
      "execution_count": 421,
      "outputs": [
        {
          "output_type": "display_data",
          "data": {
            "text/plain": [
              "<Figure size 432x288 with 1 Axes>"
            ],
            "image/png": "[encoded data removed]"
          },
          "metadata": {
            "needs_background": "light"
          }
        }
      ]
    },
    {
      "cell_type": "code",
      "source": [
        "# Notebook setup\n",
        "import pandas as pd\n",
        "from sklearn.model_selection import train_test_split\n",
        "from sklearn.pipeline import Pipeline\n",
        "from sklearn.linear_model import LogisticRegression\n",
        "from sklearn.svm import LinearSVC\n",
        "!pip install category_encoders\n",
        "import category_encoders as ce\n",
        "\n",
        "from sklearn.ensemble import RandomForestClassifier\n",
        "from sklearn.linear_model import SGDClassifier\n",
        "\n",
        "\n",
        "from yellowbrick.classifier import ConfusionMatrix\n",
        "\n",
        "import matplotlib.pyplot as plt\n",
        "\n",
        "import warnings \n",
        "warnings.filterwarnings(\"ignore\")\n",
        "%matplotlib inline"
      ],
      "metadata": {
        "colab": {
          "base_uri": "https://localhost:8080/"
        },
        "id": "2LsYeE7nYg43",
        "outputId": "0bc7fc91-14ed-49f2-8b02-afb982364da3"
      },
      "execution_count": 422,
      "outputs": [
        {
          "output_type": "stream",
          "name": "stdout",
          "text": [
            "Looking in indexes: https://pypi.org/simple, https://us-python.pkg.dev/colab-wheels/public/simple/\n",
            "Requirement already satisfied: category_encoders in /usr/local/lib/python3.8/dist-packages (2.5.1.post0)\n",
            "Requirement already satisfied: patsy>=0.5.1 in /usr/local/lib/python3.8/dist-packages (from category_encoders) (0.5.3)\n",
            "Requirement already satisfied: scikit-learn>=0.20.0 in /usr/local/lib/python3.8/dist-packages (from category_encoders) (1.0.2)\n",
            "Requirement already satisfied: pandas>=1.0.5 in /usr/local/lib/python3.8/dist-packages (from category_encoders) (1.3.5)\n",
            "Requirement already satisfied: statsmodels>=0.9.0 in /usr/local/lib/python3.8/dist-packages (from category_encoders) (0.12.2)\n",
            "Requirement already satisfied: numpy>=1.14.0 in /usr/local/lib/python3.8/dist-packages (from category_encoders) (1.21.6)\n",
            "Requirement already satisfied: scipy>=1.0.0 in /usr/local/lib/python3.8/dist-packages (from category_encoders) (1.7.3)\n",
            "Requirement already satisfied: python-dateutil>=2.7.3 in /usr/local/lib/python3.8/dist-packages (from pandas>=1.0.5->category_encoders) (2.8.2)\n",
            "Requirement already satisfied: pytz>=2017.3 in /usr/local/lib/python3.8/dist-packages (from pandas>=1.0.5->category_encoders) (2022.6)\n",
            "Requirement already satisfied: six in /usr/local/lib/python3.8/dist-packages (from patsy>=0.5.1->category_encoders) (1.15.0)\n",
            "Requirement already satisfied: threadpoolctl>=2.0.0 in /usr/local/lib/python3.8/dist-packages (from scikit-learn>=0.20.0->category_encoders) (3.1.0)\n",
            "Requirement already satisfied: joblib>=0.11 in /usr/local/lib/python3.8/dist-packages (from scikit-learn>=0.20.0->category_encoders) (1.2.0)\n"
          ]
        }
      ]
    },
    {
      "cell_type": "code",
      "source": [
        "# Estimators dictionary\n",
        "# We can add as more classifiers to our dictionary\n",
        "# This is just a sample\n",
        "estimators_dct={\n",
        "                \"SGD Classifier\": SGDClassifier(),\n",
        "               }"
      ],
      "metadata": {
        "id": "-xLbyazOZgNN"
      },
      "execution_count": 434,
      "outputs": []
    },
    {
      "cell_type": "code",
      "source": [
        "# set up the figure size for the confusion matrices\n",
        "plt.rcParams['figure.figsize'] = (6, 4)\n",
        "plt.rcParams['font.size'] = 15\n",
        "\n",
        "def confusion_matrices(X, y, estimator_dict):\n",
        "    \"\"\"\n",
        "    Takes X, y datasets and an estimator dictionary -> returns confusion matrices of the classifiers\n",
        "    \"\"\"\n",
        "    # Split the data as train and test\n",
        "    X_train, X_test, y_train, y_test= train_test_split(X, y, test_size=0.2, random_state=11)\n",
        "    \n",
        "    # Loop over the estimator_dict keys to get the each estimator \n",
        "    for estimator in estimator_dict.keys():\n",
        "        print(estimator)\n",
        "        \n",
        "        # In the pipeline we use OneHotEncoder from Category Encoders\n",
        "        model = Pipeline([('encoder', ce.OneHotEncoder()),\n",
        "                          ('estimator', estimator_dict[estimator])])\n",
        "        \n",
        "        # Instantiate the classification model and visualizer\n",
        "        model.fit(X_train, y_train)\n",
        "        \n",
        "        # The ConfusionMatrix visualizer takes a model\n",
        "        cm = ConfusionMatrix(model, fontsize=13, cmap='YlOrBr')\n",
        "        \n",
        "        # To create the ConfusionMatrix, we need some test data\n",
        "        # Score runs predict() on the data and then \n",
        "        # creates the confusion_matrix from scikit-learn\n",
        "        cm.score(X_test, y_test)\n",
        "        \n",
        "        cm.poof()"
      ],
      "metadata": {
        "id": "xtm-4GXlbsxV"
      },
      "execution_count": 428,
      "outputs": []
    },
    {
      "cell_type": "code",
      "source": [
        "# Call the confusion_matrices function to get the confusion matrices\n",
        "confusion_matrices(X, y, estimators_dct)\n"
      ],
      "metadata": {
        "colab": {
          "base_uri": "https://localhost:8080/",
          "height": 322
        },
        "id": "08Fg-Q-tbykX",
        "outputId": "4c1df838-a87d-450b-8dbf-27083268aaf7"
      },
      "execution_count": 435,
      "outputs": [
        {
          "output_type": "stream",
          "name": "stdout",
          "text": [
            "SGD Classifier\n",
            "Warning: No categorical columns found. Calling 'transform' will only return input data.\n"
          ]
        },
        {
          "output_type": "display_data",
          "data": {
            "text/plain": [
              "<Figure size 432x288 with 1 Axes>"
            ],
            "image/png": "[encoded data removed]"
          },
          "metadata": {
            "needs_background": "light"
          }
        }
      ]
    },
    {
      "cell_type": "code",
      "source": [
        "from sklearn.metrics import plot_precision_recall_curve\n",
        "disp = plot_precision_recall_curve(sgd, X_test, y_test)"
      ],
      "metadata": {
        "colab": {
          "base_uri": "https://localhost:8080/",
          "height": 279
        },
        "id": "-YFUdeWhhUOB",
        "outputId": "fa24e3f4-125b-41e9-9d5e-9f44b520ef15"
      },
      "execution_count": 436,
      "outputs": [
        {
          "output_type": "display_data",
          "data": {
            "text/plain": [
              "<Figure size 432x288 with 1 Axes>"
            ],
            "image/png": "[encoded data removed]"
          },
          "metadata": {
            "needs_background": "light"
          }
        }
      ]
    }
  ]
}